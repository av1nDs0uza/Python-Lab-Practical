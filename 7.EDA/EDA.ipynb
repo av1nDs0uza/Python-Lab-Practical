{
 "cells": [
  {
   "cell_type": "code",
   "execution_count": 12,
   "metadata": {},
   "outputs": [
    {
     "name": "stdout",
     "output_type": "stream",
     "text": [
      "  Item_Category  Gender  Age  Salary Purchased\n",
      "0       Fitness    Male   20   30000       Yes\n",
      "1       Fitness  Female   50   70000        No\n",
      "2          Food    Male   35   50000       Yes\n",
      "3       Kitchen    Male   22   40000        No\n",
      "4       Kitchen  Female   30   35000       Yes\n"
     ]
    }
   ],
   "source": [
    "import pandas as pd \n",
    "from matplotlib import pyplot as plt\n",
    "df = pd.read_csv('Book1.csv')\n",
    "print(df)\n"
   ]
  },
  {
   "cell_type": "code",
   "execution_count": 3,
   "metadata": {},
   "outputs": [
    {
     "name": "stdout",
     "output_type": "stream",
     "text": [
      "  Item_Category  Gender  Age  Salary Purchased\n",
      "0       Fitness    Male   20   30000       Yes\n",
      "1       Fitness  Female   50   70000        No\n",
      "2          Food    Male   35   50000       Yes\n",
      "3       Kitchen    Male   22   40000        No\n",
      "4       Kitchen  Female   30   35000       Yes\n"
     ]
    }
   ],
   "source": [
    "print(df.head())"
   ]
  },
  {
   "cell_type": "code",
   "execution_count": 4,
   "metadata": {},
   "outputs": [
    {
     "name": "stdout",
     "output_type": "stream",
     "text": [
      "independent variables\n",
      "[['Fitness' 'Male' 20 30000]\n",
      " ['Fitness' 'Female' 50 70000]\n",
      " ['Food' 'Male' 35 50000]\n",
      " ['Kitchen' 'Male' 22 40000]\n",
      " ['Kitchen' 'Female' 30 35000]]\n"
     ]
    }
   ],
   "source": [
    "x = df.iloc[: , :-1].values\n",
    "print(\"independent variables\")\n",
    "print(x)"
   ]
  },
  {
   "cell_type": "code",
   "execution_count": 5,
   "metadata": {},
   "outputs": [
    {
     "name": "stdout",
     "output_type": "stream",
     "text": [
      "Dependent values\n",
      "['Yes' 'No' 'Yes' 'No' 'Yes']\n"
     ]
    }
   ],
   "source": [
    "y = df.iloc[:, -1].values\n",
    "print(\"Dependent values\")\n",
    "print(y)"
   ]
  },
  {
   "cell_type": "code",
   "execution_count": 7,
   "metadata": {},
   "outputs": [
    {
     "name": "stdout",
     "output_type": "stream",
     "text": [
      "Min Avg of age 31.4\n",
      "Min Avg of salary 45000.0\n"
     ]
    }
   ],
   "source": [
    "print(\"Min Avg of age\",df[\"Age\"].mean())\n",
    "print(\"Min Avg of salary\",df[\"Salary\"].mean())\n"
   ]
  },
  {
   "cell_type": "code",
   "execution_count": 8,
   "metadata": {},
   "outputs": [
    {
     "name": "stdout",
     "output_type": "stream",
     "text": [
      "std of Age 12.033287165193059\n",
      "std of Salary 15811.388300841896\n"
     ]
    }
   ],
   "source": [
    "print(\"std of Age\",df[\"Age\"].std())\n",
    "print(\"std of Salary\",df[\"Salary\"].std())"
   ]
  },
  {
   "cell_type": "code",
   "execution_count": 10,
   "metadata": {},
   "outputs": [
    {
     "name": "stdout",
     "output_type": "stream",
     "text": [
      "0\n",
      "0\n",
      "0\n",
      "0\n"
     ]
    }
   ],
   "source": [
    "print(df[\"Item_Category\"].isnull().sum())\n",
    "print(df[\"Gender\"].isnull().sum())\n",
    "print(df[\"Age\"].isnull().sum())\n",
    "print(df[\"Salary\"].isnull().sum())"
   ]
  },
  {
   "cell_type": "code",
   "execution_count": 11,
   "metadata": {},
   "outputs": [
    {
     "name": "stdout",
     "output_type": "stream",
     "text": [
      "Age\n",
      "  Item_Category  Gender  Age  Salary Purchased\n",
      "0       Fitness    Male   20   30000       Yes\n",
      "1       Fitness  Female   50   70000        No\n",
      "2          Food    Male   35   50000       Yes\n",
      "3       Kitchen    Male   22   40000        No\n",
      "4       Kitchen  Female   30   35000       Yes\n"
     ]
    }
   ],
   "source": [
    "df['Age'] = df['Age'].fillna(df['Age'].mean())\n",
    "print(\"Age\")\n",
    "print(df)"
   ]
  },
  {
   "cell_type": "code",
   "execution_count": 17,
   "metadata": {},
   "outputs": [
    {
     "data": {
      "image/png": "[encoded data removed]",
      "text/plain": [
       "<Figure size 432x288 with 1 Axes>"
      ]
     },
     "metadata": {},
     "output_type": "display_data"
    }
   ],
   "source": [
    "plt.style.use('ggplot')\n",
    "df['Age'].hist(bins=[20,30,40,50])\n",
    "plt.show()"
   ]
  }
 ],
 "metadata": {
  "interpreter": {
   "hash": "2be5faf79681da6f2a61fdfdd5405d65d042280f7fba6178067603e3a2925119"
  },
  "kernelspec": {
   "display_name": "Python 3.10.4 64-bit",
   "language": "python",
   "name": "python3"
  },
  "language_info": {
   "codemirror_mode": {
    "name": "ipython",
    "version": 3
   },
   "file_extension": ".py",
   "mimetype": "text/x-python",
   "name": "python",
   "nbconvert_exporter": "python",
   "pygments_lexer": "ipython3",
   "version": "3.10.4"
  },
  "orig_nbformat": 4
 },
 "nbformat": 4,
 "nbformat_minor": 2
}
